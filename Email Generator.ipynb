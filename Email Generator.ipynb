{
 "cells": [
  {
   "cell_type": "code",
   "execution_count": 14,
   "metadata": {},
   "outputs": [
    {
     "name": "stdout",
     "output_type": "stream",
     "text": [
      "Dear Asad, \n",
      "This is lit. Mad cool. \n",
      "Have a great weekend! \n",
      "Yours Truly\n",
      "Dear Karim, \n",
      "This is lit. Mad cool. \n",
      "Have a great weekend! \n",
      "Yours Truly\n",
      "Dear Asif, \n",
      "This is lit. Mad cool. \n",
      "Have a great weekend! \n",
      "Yours Truly\n"
     ]
    }
   ],
   "source": [
    "import smtplib\n",
    "\n",
    "from string import Template\n",
    "\n",
    "from email.mime.multipart import MIMEMultipart\n",
    "from email.mime.text import MIMEText\n",
    "\n",
    "MY_ADDRESS = 'asad.noorzaie@gmail.com'\n",
    "PASSWORD = 'secret'\n",
    "\n",
    "def get_contacts():\n",
    "    \"\"\"\n",
    "    Return two lists names, emails containing names and email addresses\n",
    "    read from a file specified by filename.\n",
    "    \"\"\"\n",
    "    \n",
    "    names = ['asad', 'karim', 'asif']\n",
    "    emails = ['aun4@scarletmail.rutgers.edu','noorzaiek@gmail.com', 'asif.kandahari@gmail.com']\n",
    "    \n",
    "    \"\"\"\n",
    "    with open(filename, mode='r', encoding='utf-8') as contacts_file:\n",
    "        for a_contact in contacts_file:\n",
    "            names.append(a_contact.split()[0])\n",
    "            emails.append(a_contact.split()[1])\n",
    "     \"\"\"\n",
    "    return names, emails\n",
    "\n",
    "def read_template(filename):\n",
    "    \"\"\"\n",
    "    Returns a Template object comprising the contents of the \n",
    "    file specified by filename.\n",
    "    \"\"\"\n",
    "    \n",
    "    with open(filename, 'r', encoding='utf-8') as template_file:\n",
    "        template_file_content = template_file.read()\n",
    "    return Template(template_file_content)\n",
    "\n",
    "def main():\n",
    "    names, emails = get_contacts() # read contacts\n",
    "    message_template = read_template('message.txt')\n",
    "\n",
    "    # set up the SMTP server\n",
    "    s = smtplib.SMTP(host='smtp.gmail.com', port=587)\n",
    "    s.starttls()\n",
    "    s.login(MY_ADDRESS, PASSWORD)\n",
    "\n",
    "    # For each contact, send the email:\n",
    "    for name, email in zip(names, emails):\n",
    "        msg = MIMEMultipart()       # create a message\n",
    "\n",
    "        # add in the actual person name to the message template\n",
    "        message = message_template.substitute(PERSON_NAME=name.title())\n",
    "\n",
    "        # Prints out the message body for our sake\n",
    "        print(message)\n",
    "        print(\"\")\n",
    "\n",
    "        # setup the parameters of the message\n",
    "        msg['From']=MY_ADDRESS\n",
    "        msg['To']=email\n",
    "        msg['Subject']=\"Sending you an Email via Python\"\n",
    "        \n",
    "        # add in the message body\n",
    "        msg.attach(MIMEText(message, 'plain'))\n",
    "        \n",
    "        # send the message via the server set up earlier.\n",
    "        s.send_message(msg)\n",
    "        del msg\n",
    "        \n",
    "    # Terminate the SMTP session and close the connection\n",
    "    s.quit()\n",
    "    \n",
    "if __name__ == '__main__':\n",
    "    main()"
   ]
  },
  {
   "cell_type": "code",
   "execution_count": 2,
   "metadata": {},
   "outputs": [
    {
     "ename": "NameError",
     "evalue": "name 'Widget' is not defined",
     "output_type": "error",
     "traceback": [
      "\u001b[0;31m---------------------------------------------------------------------------\u001b[0m",
      "\u001b[0;31mNameError\u001b[0m                                 Traceback (most recent call last)",
      "\u001b[0;32m<ipython-input-2-785bdf31d6e1>\u001b[0m in \u001b[0;36m<module>\u001b[0;34m()\u001b[0m\n\u001b[1;32m      1\u001b[0m \u001b[0;32mimport\u001b[0m \u001b[0munittest\u001b[0m\u001b[0;34m\u001b[0m\u001b[0m\n\u001b[0;32m----> 2\u001b[0;31m \u001b[0mwidget\u001b[0m \u001b[0;34m=\u001b[0m \u001b[0mWidget\u001b[0m\u001b[0;34m(\u001b[0m\u001b[0;34m'The widget'\u001b[0m\u001b[0;34m)\u001b[0m\u001b[0;34m\u001b[0m\u001b[0m\n\u001b[0m",
      "\u001b[0;31mNameError\u001b[0m: name 'Widget' is not defined"
     ]
    }
   ],
   "source": [
    "import unittest\n",
    "widget = Widget('The widget')"
   ]
  },
  {
   "cell_type": "code",
   "execution_count": null,
   "metadata": {},
   "outputs": [],
   "source": []
  },
  {
   "cell_type": "code",
   "execution_count": null,
   "metadata": {},
   "outputs": [],
   "source": []
  },
  {
   "cell_type": "code",
   "execution_count": null,
   "metadata": {},
   "outputs": [],
   "source": []
  },
  {
   "cell_type": "code",
   "execution_count": null,
   "metadata": {},
   "outputs": [],
   "source": []
  },
  {
   "cell_type": "code",
   "execution_count": null,
   "metadata": {},
   "outputs": [],
   "source": []
  }
 ],
 "metadata": {
  "kernelspec": {
   "display_name": "Python 3",
   "language": "python",
   "name": "python3"
  },
  "language_info": {
   "codemirror_mode": {
    "name": "ipython",
    "version": 3
   },
   "file_extension": ".py",
   "mimetype": "text/x-python",
   "name": "python",
   "nbconvert_exporter": "python",
   "pygments_lexer": "ipython3",
   "version": "3.6.4"
  }
 },
 "nbformat": 4,
 "nbformat_minor": 2
}
