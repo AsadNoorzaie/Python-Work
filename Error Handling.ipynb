{
 "cells": [
  {
   "cell_type": "code",
   "execution_count": 8,
   "metadata": {},
   "outputs": [
    {
     "name": "stdout",
     "output_type": "stream",
     "text": [
      "\n",
      "Cannot square this value \n",
      "Just testing\n",
      "\n",
      "Cannot square this value \n",
      "Just testing\n",
      "\n",
      "Cannot square this value \n",
      "Just testing\n",
      "\n",
      "Cannot square this value \n",
      "Just testing\n"
     ]
    }
   ],
   "source": [
    "list = ['a', 'b', 'c', 'd']\n",
    "\n",
    "for i in list:\n",
    "    try:\n",
    "        print(i**2)\n",
    "    except:\n",
    "        print(\"\\nCannot square this value \")\n",
    "    finally:\n",
    "        print(\"Just testing\")"
   ]
  },
  {
   "cell_type": "code",
   "execution_count": 13,
   "metadata": {},
   "outputs": [
    {
     "name": "stdout",
     "output_type": "stream",
     "text": [
      "\n",
      "All done!\n"
     ]
    }
   ],
   "source": [
    "x=5\n",
    "y=0\n",
    "\n",
    "try:\n",
    "    print(x/y)\n",
    "except ZeroDivisionError:\n",
    "    print(\"\")\n",
    "finally:\n",
    "    print(\"All done!\")"
   ]
  },
  {
   "cell_type": "code",
   "execution_count": 35,
   "metadata": {},
   "outputs": [],
   "source": [
    "def ask():\n",
    "    wait = False\n",
    "    while waiting:\n",
    "        try:\n",
    "            number = int(input(\"Give me a number: \"))\n",
    "            break\n",
    "        except:\n",
    "            print(\"Not a valid input, try again!\")\n",
    "            continue\n",
    "        else:\n",
    "            waiting = True\n",
    "\n",
    "    print(number*2)\n",
    "    \n",
    "    "
   ]
  },
  {
   "cell_type": "code",
   "execution_count": null,
   "metadata": {},
   "outputs": [],
   "source": []
  },
  {
   "cell_type": "code",
   "execution_count": null,
   "metadata": {},
   "outputs": [],
   "source": []
  }
 ],
 "metadata": {
  "kernelspec": {
   "display_name": "Python 3",
   "language": "python",
   "name": "python3"
  },
  "language_info": {
   "codemirror_mode": {
    "name": "ipython",
    "version": 3
   },
   "file_extension": ".py",
   "mimetype": "text/x-python",
   "name": "python",
   "nbconvert_exporter": "python",
   "pygments_lexer": "ipython3",
   "version": "3.6.4"
  }
 },
 "nbformat": 4,
 "nbformat_minor": 2
}
